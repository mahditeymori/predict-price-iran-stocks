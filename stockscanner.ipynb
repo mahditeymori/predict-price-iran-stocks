{
  "cells": [
    {
      "cell_type": "markdown",
      "metadata": {
        "colab_type": "text",
        "id": "view-in-github"
      },
      "source": [
        "<a href=\"https://colab.research.google.com/github/saransh121/Kaggle/blob/main/stockscanner.ipynb\" target=\"_parent\"><img src=\"https://colab.research.google.com/assets/colab-badge.svg\" alt=\"Open In Colab\"/></a>"
      ]
    },
    {
      "cell_type": "code",
      "execution_count": 1,
      "id": "nzcBkRnoElMB",
      "metadata": {
        "id": "nzcBkRnoElMB"
      },
      "outputs": [],
      "source": [
        "import pandas as pd\n",
        "import numpy as np\n",
        "\n",
        "import yfinance as yf\n",
        "import pytse_client as tse\n",
        "import finpy_tse as fpy\n",
        "import numpy as np\n",
        "import pandas as pd\n",
        "import talib as ta\n",
        "import matplotlib.pyplot as plt\n",
        "import warnings\n",
        "warnings.filterwarnings('ignore')\n",
        "from sklearn.model_selection import train_test_split\n",
        "from sklearn.metrics import mean_squared_error\n",
        "from sklearn.kernel_ridge import KernelRidge\n",
        "from sklearn.ensemble import GradientBoostingRegressor\n",
        "from sklearn.metrics import r2_score\n",
        "import talib\n"
      ]
    },
    {
      "cell_type": "code",
      "execution_count": 2,
      "id": "49dc4cb6",
      "metadata": {},
      "outputs": [],
      "source": [
        "df = fpy.Get_Price_History(stock=\"آبادا\", start_date='1400-01-01', end_date='1402-08-23',\\\n",
        "                          ignore_date=False, adjust_price=True, show_weekday=False, double_date=True)"
      ]
    },
    {
      "cell_type": "code",
      "execution_count": 3,
      "id": "L3MCloi3EnFl",
      "metadata": {
        "colab": {
          "base_uri": "https://localhost:8080/",
          "height": 237
        },
        "id": "L3MCloi3EnFl",
        "outputId": "7c7057f4-cb8c-46de-f2e9-a1b7c3c00960"
      },
      "outputs": [
        {
          "data": {
            "text/html": [
              "<div>\n",
              "<style scoped>\n",
              "    .dataframe tbody tr th:only-of-type {\n",
              "        vertical-align: middle;\n",
              "    }\n",
              "\n",
              "    .dataframe tbody tr th {\n",
              "        vertical-align: top;\n",
              "    }\n",
              "\n",
              "    .dataframe thead th {\n",
              "        text-align: right;\n",
              "    }\n",
              "</style>\n",
              "<table border=\"1\" class=\"dataframe\">\n",
              "  <thead>\n",
              "    <tr style=\"text-align: right;\">\n",
              "      <th></th>\n",
              "      <th>Date</th>\n",
              "      <th>Open</th>\n",
              "      <th>High</th>\n",
              "      <th>Low</th>\n",
              "      <th>Close</th>\n",
              "      <th>Final</th>\n",
              "      <th>Volume</th>\n",
              "      <th>Value</th>\n",
              "      <th>No</th>\n",
              "      <th>Ticker</th>\n",
              "      <th>Name</th>\n",
              "      <th>Market</th>\n",
              "      <th>Adj Open</th>\n",
              "      <th>Adj High</th>\n",
              "      <th>Adj Low</th>\n",
              "      <th>Adj Close</th>\n",
              "      <th>Adj Final</th>\n",
              "    </tr>\n",
              "    <tr>\n",
              "      <th>J-Date</th>\n",
              "      <th></th>\n",
              "      <th></th>\n",
              "      <th></th>\n",
              "      <th></th>\n",
              "      <th></th>\n",
              "      <th></th>\n",
              "      <th></th>\n",
              "      <th></th>\n",
              "      <th></th>\n",
              "      <th></th>\n",
              "      <th></th>\n",
              "      <th></th>\n",
              "      <th></th>\n",
              "      <th></th>\n",
              "      <th></th>\n",
              "      <th></th>\n",
              "      <th></th>\n",
              "    </tr>\n",
              "  </thead>\n",
              "  <tbody>\n",
              "    <tr>\n",
              "      <th>1400-01-07</th>\n",
              "      <td>2021-03-27</td>\n",
              "      <td>14400</td>\n",
              "      <td>14610</td>\n",
              "      <td>14320</td>\n",
              "      <td>14360</td>\n",
              "      <td>14340</td>\n",
              "      <td>3667833</td>\n",
              "      <td>52608358930</td>\n",
              "      <td>6840</td>\n",
              "      <td>آبادا</td>\n",
              "      <td>تولید نیروی برق آبادان</td>\n",
              "      <td>بورس</td>\n",
              "      <td>13043</td>\n",
              "      <td>13234</td>\n",
              "      <td>12971</td>\n",
              "      <td>13007</td>\n",
              "      <td>12989</td>\n",
              "    </tr>\n",
              "    <tr>\n",
              "      <th>1400-01-08</th>\n",
              "      <td>2021-03-28</td>\n",
              "      <td>14160</td>\n",
              "      <td>14570</td>\n",
              "      <td>14090</td>\n",
              "      <td>14350</td>\n",
              "      <td>14300</td>\n",
              "      <td>2709096</td>\n",
              "      <td>38694907270</td>\n",
              "      <td>6787</td>\n",
              "      <td>آبادا</td>\n",
              "      <td>تولید نیروی برق آبادان</td>\n",
              "      <td>بورس</td>\n",
              "      <td>12826</td>\n",
              "      <td>13197</td>\n",
              "      <td>12763</td>\n",
              "      <td>12998</td>\n",
              "      <td>12953</td>\n",
              "    </tr>\n",
              "    <tr>\n",
              "      <th>1400-01-10</th>\n",
              "      <td>2021-03-30</td>\n",
              "      <td>14350</td>\n",
              "      <td>14460</td>\n",
              "      <td>14130</td>\n",
              "      <td>14180</td>\n",
              "      <td>14290</td>\n",
              "      <td>2170996</td>\n",
              "      <td>30994613010</td>\n",
              "      <td>5993</td>\n",
              "      <td>آبادا</td>\n",
              "      <td>تولید نیروی برق آبادان</td>\n",
              "      <td>بورس</td>\n",
              "      <td>12998</td>\n",
              "      <td>13098</td>\n",
              "      <td>12799</td>\n",
              "      <td>12844</td>\n",
              "      <td>12944</td>\n",
              "    </tr>\n",
              "    <tr>\n",
              "      <th>1400-01-11</th>\n",
              "      <td>2021-03-31</td>\n",
              "      <td>14060</td>\n",
              "      <td>14250</td>\n",
              "      <td>14010</td>\n",
              "      <td>14010</td>\n",
              "      <td>14040</td>\n",
              "      <td>3823392</td>\n",
              "      <td>53682598420</td>\n",
              "      <td>4558</td>\n",
              "      <td>آبادا</td>\n",
              "      <td>تولید نیروی برق آبادان</td>\n",
              "      <td>بورس</td>\n",
              "      <td>12735</td>\n",
              "      <td>12908</td>\n",
              "      <td>12690</td>\n",
              "      <td>12690</td>\n",
              "      <td>12717</td>\n",
              "    </tr>\n",
              "    <tr>\n",
              "      <th>1400-01-14</th>\n",
              "      <td>2021-04-03</td>\n",
              "      <td>13870</td>\n",
              "      <td>14230</td>\n",
              "      <td>13760</td>\n",
              "      <td>13760</td>\n",
              "      <td>13900</td>\n",
              "      <td>2551748</td>\n",
              "      <td>35319878360</td>\n",
              "      <td>4538</td>\n",
              "      <td>آبادا</td>\n",
              "      <td>تولید نیروی برق آبادان</td>\n",
              "      <td>بورس</td>\n",
              "      <td>12563</td>\n",
              "      <td>12889</td>\n",
              "      <td>12464</td>\n",
              "      <td>12464</td>\n",
              "      <td>12590</td>\n",
              "    </tr>\n",
              "  </tbody>\n",
              "</table>\n",
              "</div>"
            ],
            "text/plain": [
              "                 Date   Open   High    Low  Close  Final   Volume  \\\n",
              "J-Date                                                              \n",
              "1400-01-07 2021-03-27  14400  14610  14320  14360  14340  3667833   \n",
              "1400-01-08 2021-03-28  14160  14570  14090  14350  14300  2709096   \n",
              "1400-01-10 2021-03-30  14350  14460  14130  14180  14290  2170996   \n",
              "1400-01-11 2021-03-31  14060  14250  14010  14010  14040  3823392   \n",
              "1400-01-14 2021-04-03  13870  14230  13760  13760  13900  2551748   \n",
              "\n",
              "                  Value    No Ticker                    Name Market  Adj Open  \\\n",
              "J-Date                                                                          \n",
              "1400-01-07  52608358930  6840  آبادا  تولید نیروی برق آبادان   بورس     13043   \n",
              "1400-01-08  38694907270  6787  آبادا  تولید نیروی برق آبادان   بورس     12826   \n",
              "1400-01-10  30994613010  5993  آبادا  تولید نیروی برق آبادان   بورس     12998   \n",
              "1400-01-11  53682598420  4558  آبادا  تولید نیروی برق آبادان   بورس     12735   \n",
              "1400-01-14  35319878360  4538  آبادا  تولید نیروی برق آبادان   بورس     12563   \n",
              "\n",
              "            Adj High  Adj Low  Adj Close  Adj Final  \n",
              "J-Date                                               \n",
              "1400-01-07     13234    12971      13007      12989  \n",
              "1400-01-08     13197    12763      12998      12953  \n",
              "1400-01-10     13098    12799      12844      12944  \n",
              "1400-01-11     12908    12690      12690      12717  \n",
              "1400-01-14     12889    12464      12464      12590  "
            ]
          },
          "execution_count": 3,
          "metadata": {},
          "output_type": "execute_result"
        }
      ],
      "source": [
        "df.head()"
      ]
    },
    {
      "cell_type": "code",
      "execution_count": 4,
      "id": "oPrARfbZEsEC",
      "metadata": {
        "id": "oPrARfbZEsEC"
      },
      "outputs": [],
      "source": [
        "df.reset_index(inplace=True)"
      ]
    },
    {
      "cell_type": "code",
      "execution_count": 5,
      "id": "dbPrPK4CEv3h",
      "metadata": {
        "colab": {
          "base_uri": "https://localhost:8080/",
          "height": 206
        },
        "id": "dbPrPK4CEv3h",
        "outputId": "10968e59-6032-45d5-dbab-168f30950825"
      },
      "outputs": [
        {
          "data": {
            "text/html": [
              "<div>\n",
              "<style scoped>\n",
              "    .dataframe tbody tr th:only-of-type {\n",
              "        vertical-align: middle;\n",
              "    }\n",
              "\n",
              "    .dataframe tbody tr th {\n",
              "        vertical-align: top;\n",
              "    }\n",
              "\n",
              "    .dataframe thead th {\n",
              "        text-align: right;\n",
              "    }\n",
              "</style>\n",
              "<table border=\"1\" class=\"dataframe\">\n",
              "  <thead>\n",
              "    <tr style=\"text-align: right;\">\n",
              "      <th></th>\n",
              "      <th>J-Date</th>\n",
              "      <th>Date</th>\n",
              "      <th>Open</th>\n",
              "      <th>High</th>\n",
              "      <th>Low</th>\n",
              "      <th>Close</th>\n",
              "      <th>Final</th>\n",
              "      <th>Volume</th>\n",
              "      <th>Value</th>\n",
              "      <th>No</th>\n",
              "      <th>Ticker</th>\n",
              "      <th>Name</th>\n",
              "      <th>Market</th>\n",
              "      <th>Adj Open</th>\n",
              "      <th>Adj High</th>\n",
              "      <th>Adj Low</th>\n",
              "      <th>Adj Close</th>\n",
              "      <th>Adj Final</th>\n",
              "    </tr>\n",
              "  </thead>\n",
              "  <tbody>\n",
              "    <tr>\n",
              "      <th>0</th>\n",
              "      <td>1400-01-07</td>\n",
              "      <td>2021-03-27</td>\n",
              "      <td>14400</td>\n",
              "      <td>14610</td>\n",
              "      <td>14320</td>\n",
              "      <td>14360</td>\n",
              "      <td>14340</td>\n",
              "      <td>3667833</td>\n",
              "      <td>52608358930</td>\n",
              "      <td>6840</td>\n",
              "      <td>آبادا</td>\n",
              "      <td>تولید نیروی برق آبادان</td>\n",
              "      <td>بورس</td>\n",
              "      <td>13043</td>\n",
              "      <td>13234</td>\n",
              "      <td>12971</td>\n",
              "      <td>13007</td>\n",
              "      <td>12989</td>\n",
              "    </tr>\n",
              "    <tr>\n",
              "      <th>1</th>\n",
              "      <td>1400-01-08</td>\n",
              "      <td>2021-03-28</td>\n",
              "      <td>14160</td>\n",
              "      <td>14570</td>\n",
              "      <td>14090</td>\n",
              "      <td>14350</td>\n",
              "      <td>14300</td>\n",
              "      <td>2709096</td>\n",
              "      <td>38694907270</td>\n",
              "      <td>6787</td>\n",
              "      <td>آبادا</td>\n",
              "      <td>تولید نیروی برق آبادان</td>\n",
              "      <td>بورس</td>\n",
              "      <td>12826</td>\n",
              "      <td>13197</td>\n",
              "      <td>12763</td>\n",
              "      <td>12998</td>\n",
              "      <td>12953</td>\n",
              "    </tr>\n",
              "    <tr>\n",
              "      <th>2</th>\n",
              "      <td>1400-01-10</td>\n",
              "      <td>2021-03-30</td>\n",
              "      <td>14350</td>\n",
              "      <td>14460</td>\n",
              "      <td>14130</td>\n",
              "      <td>14180</td>\n",
              "      <td>14290</td>\n",
              "      <td>2170996</td>\n",
              "      <td>30994613010</td>\n",
              "      <td>5993</td>\n",
              "      <td>آبادا</td>\n",
              "      <td>تولید نیروی برق آبادان</td>\n",
              "      <td>بورس</td>\n",
              "      <td>12998</td>\n",
              "      <td>13098</td>\n",
              "      <td>12799</td>\n",
              "      <td>12844</td>\n",
              "      <td>12944</td>\n",
              "    </tr>\n",
              "    <tr>\n",
              "      <th>3</th>\n",
              "      <td>1400-01-11</td>\n",
              "      <td>2021-03-31</td>\n",
              "      <td>14060</td>\n",
              "      <td>14250</td>\n",
              "      <td>14010</td>\n",
              "      <td>14010</td>\n",
              "      <td>14040</td>\n",
              "      <td>3823392</td>\n",
              "      <td>53682598420</td>\n",
              "      <td>4558</td>\n",
              "      <td>آبادا</td>\n",
              "      <td>تولید نیروی برق آبادان</td>\n",
              "      <td>بورس</td>\n",
              "      <td>12735</td>\n",
              "      <td>12908</td>\n",
              "      <td>12690</td>\n",
              "      <td>12690</td>\n",
              "      <td>12717</td>\n",
              "    </tr>\n",
              "    <tr>\n",
              "      <th>4</th>\n",
              "      <td>1400-01-14</td>\n",
              "      <td>2021-04-03</td>\n",
              "      <td>13870</td>\n",
              "      <td>14230</td>\n",
              "      <td>13760</td>\n",
              "      <td>13760</td>\n",
              "      <td>13900</td>\n",
              "      <td>2551748</td>\n",
              "      <td>35319878360</td>\n",
              "      <td>4538</td>\n",
              "      <td>آبادا</td>\n",
              "      <td>تولید نیروی برق آبادان</td>\n",
              "      <td>بورس</td>\n",
              "      <td>12563</td>\n",
              "      <td>12889</td>\n",
              "      <td>12464</td>\n",
              "      <td>12464</td>\n",
              "      <td>12590</td>\n",
              "    </tr>\n",
              "  </tbody>\n",
              "</table>\n",
              "</div>"
            ],
            "text/plain": [
              "       J-Date       Date   Open   High    Low  Close  Final   Volume  \\\n",
              "0  1400-01-07 2021-03-27  14400  14610  14320  14360  14340  3667833   \n",
              "1  1400-01-08 2021-03-28  14160  14570  14090  14350  14300  2709096   \n",
              "2  1400-01-10 2021-03-30  14350  14460  14130  14180  14290  2170996   \n",
              "3  1400-01-11 2021-03-31  14060  14250  14010  14010  14040  3823392   \n",
              "4  1400-01-14 2021-04-03  13870  14230  13760  13760  13900  2551748   \n",
              "\n",
              "         Value    No Ticker                    Name Market  Adj Open  \\\n",
              "0  52608358930  6840  آبادا  تولید نیروی برق آبادان   بورس     13043   \n",
              "1  38694907270  6787  آبادا  تولید نیروی برق آبادان   بورس     12826   \n",
              "2  30994613010  5993  آبادا  تولید نیروی برق آبادان   بورس     12998   \n",
              "3  53682598420  4558  آبادا  تولید نیروی برق آبادان   بورس     12735   \n",
              "4  35319878360  4538  آبادا  تولید نیروی برق آبادان   بورس     12563   \n",
              "\n",
              "   Adj High  Adj Low  Adj Close  Adj Final  \n",
              "0     13234    12971      13007      12989  \n",
              "1     13197    12763      12998      12953  \n",
              "2     13098    12799      12844      12944  \n",
              "3     12908    12690      12690      12717  \n",
              "4     12889    12464      12464      12590  "
            ]
          },
          "execution_count": 5,
          "metadata": {},
          "output_type": "execute_result"
        }
      ],
      "source": [
        "df.head()"
      ]
    },
    {
      "cell_type": "code",
      "execution_count": 9,
      "id": "YghH2lPJFPrd",
      "metadata": {
        "id": "YghH2lPJFPrd"
      },
      "outputs": [],
      "source": [
        "df['day_of_week']=df['Date'].dt.day_of_week\n",
        "df['dayofyear']=df['Date'].dt.dayofyear\n",
        "df['days_in_month']=df['Date'].dt.days_in_month\n",
        "df['is_month_start']=df['Date'].dt.is_month_start\n",
        "df['is_year_start']=df['Date'].dt.is_year_start\n",
        "df['dayofweek']=df['Date'].dt.dayofweek\n",
        "df['month']=df['Date'].dt.month"
      ]
    },
    {
      "cell_type": "code",
      "execution_count": 13,
      "id": "PjCHqUrVJMlw",
      "metadata": {
        "id": "PjCHqUrVJMlw"
      },
      "outputs": [],
      "source": [
        "df.drop(columns=['Date','J-Date','Ticker','Name','No','Market'],inplace=True)"
      ]
    },
    {
      "cell_type": "code",
      "execution_count": 15,
      "id": "fJtDYPBbJvFN",
      "metadata": {
        "colab": {
          "base_uri": "https://localhost:8080/"
        },
        "id": "fJtDYPBbJvFN",
        "outputId": "e0afc991-9f59-484c-da9e-7963aaa53ba6"
      },
      "outputs": [
        {
          "data": {
            "text/plain": [
              "days_in_month\n",
              "31    363\n",
              "30    204\n",
              "28     36\n",
              "Name: count, dtype: int64"
            ]
          },
          "execution_count": 15,
          "metadata": {},
          "output_type": "execute_result"
        }
      ],
      "source": [
        "df['days_in_month'].value_counts()"
      ]
    },
    {
      "cell_type": "code",
      "execution_count": 16,
      "id": "o6u4cSXDJzzV",
      "metadata": {
        "id": "o6u4cSXDJzzV"
      },
      "outputs": [],
      "source": [
        "df['days_in_month'] = df['days_in_month'].replace({31:1,30:2,28:0})"
      ]
    },
    {
      "cell_type": "code",
      "execution_count": 17,
      "id": "SCop6lmnKBhJ",
      "metadata": {
        "colab": {
          "base_uri": "https://localhost:8080/"
        },
        "id": "SCop6lmnKBhJ",
        "outputId": "4bab2375-2af2-4bb5-a8ff-cdefc25f06d8"
      },
      "outputs": [
        {
          "data": {
            "text/plain": [
              "days_in_month\n",
              "1    363\n",
              "2    204\n",
              "0     36\n",
              "Name: count, dtype: int64"
            ]
          },
          "execution_count": 17,
          "metadata": {},
          "output_type": "execute_result"
        }
      ],
      "source": [
        "df['days_in_month'].value_counts()"
      ]
    },
    {
      "cell_type": "code",
      "execution_count": 18,
      "id": "PsAZyYKNKFek",
      "metadata": {
        "id": "PsAZyYKNKFek"
      },
      "outputs": [],
      "source": [
        "df[['is_month_start',\t'is_year_start']] = df[['is_month_start',\t'is_year_start']].replace({False:0,True:1})"
      ]
    },
    {
      "cell_type": "code",
      "execution_count": 20,
      "id": "iVAtA2wENRv5",
      "metadata": {
        "id": "iVAtA2wENRv5"
      },
      "outputs": [],
      "source": [
        "def find_percentage(val1,val2):\n",
        "  dif = val1-val2\n",
        "  value = (val1+val2)/2\n",
        "  diff = (dif/value)*100\n",
        "  diff = 0 if np.isnan(diff) else diff\n",
        "  return (dif/value)*100"
      ]
    },
    {
      "cell_type": "code",
      "execution_count": 22,
      "id": "y0sfremBLGhw",
      "metadata": {
        "id": "y0sfremBLGhw"
      },
      "outputs": [],
      "source": [
        "# df['high_low_difference'] = df['High'] - df['Low']\n",
        "df['high_low_difference_precentage'] = df.apply(lambda x: find_percentage(x['High'], x['Low']),axis=1)\n",
        "\n",
        "# df['open_high_difference'] = df['Open'] - df['High']\n",
        "df['open_high_difference_precentage'] = df.apply(lambda x: find_percentage(x['Open'], x['High']),axis=1)\n",
        "\n",
        "# df['open_low_difference'] = df['Open'] - df['Low']\n",
        "df['open_low_difference_precentage'] = df.apply(lambda x : find_percentage(x.Open,x.Low),axis=1)\n",
        "\n",
        "# df['open_close_difference'] = df['Open'] - df['Close']\n",
        "df['open_close_difference_percentage'] = df.apply(lambda x : find_percentage(x.Open,x.Close),axis=1)\n",
        "\n",
        "# df['High_close_difference'] = df['High'] - df['Close']\n",
        "df['High_close_difference_percentage'] = df.apply(lambda x : find_percentage(x.High,x.Close),axis=1)\n",
        "\n",
        "# df['low_close_difference'] = df['Low'] - df['Close']\n",
        "df['low_close_difference_percentage'] = df.apply(lambda x : find_percentage(x.Low,x.Close),axis=1)"
      ]
    },
    {
      "cell_type": "code",
      "execution_count": 23,
      "id": "GUiEtNcDE_os",
      "metadata": {
        "colab": {
          "base_uri": "https://localhost:8080/"
        },
        "id": "GUiEtNcDE_os",
        "outputId": "c1aa0302-0516-4771-87fd-3b49ff292b98"
      },
      "outputs": [
        {
          "data": {
            "text/plain": [
              "(603, 25)"
            ]
          },
          "execution_count": 23,
          "metadata": {},
          "output_type": "execute_result"
        }
      ],
      "source": [
        "df.shape"
      ]
    },
    {
      "cell_type": "code",
      "execution_count": 24,
      "id": "gOT2IYBxSEkR",
      "metadata": {
        "id": "gOT2IYBxSEkR"
      },
      "outputs": [],
      "source": [
        "pd.set_option('display.max_columns',100)"
      ]
    },
    {
      "cell_type": "code",
      "execution_count": 25,
      "id": "E52YNbQ_kAgA",
      "metadata": {
        "colab": {
          "base_uri": "https://localhost:8080/",
          "height": 226
        },
        "id": "E52YNbQ_kAgA",
        "outputId": "521e7d00-b2f9-404f-91e5-fff10e600bf6"
      },
      "outputs": [
        {
          "data": {
            "text/html": [
              "<div>\n",
              "<style scoped>\n",
              "    .dataframe tbody tr th:only-of-type {\n",
              "        vertical-align: middle;\n",
              "    }\n",
              "\n",
              "    .dataframe tbody tr th {\n",
              "        vertical-align: top;\n",
              "    }\n",
              "\n",
              "    .dataframe thead th {\n",
              "        text-align: right;\n",
              "    }\n",
              "</style>\n",
              "<table border=\"1\" class=\"dataframe\">\n",
              "  <thead>\n",
              "    <tr style=\"text-align: right;\">\n",
              "      <th></th>\n",
              "      <th>Open</th>\n",
              "      <th>High</th>\n",
              "      <th>Low</th>\n",
              "      <th>Close</th>\n",
              "      <th>Final</th>\n",
              "      <th>Volume</th>\n",
              "      <th>Value</th>\n",
              "      <th>Adj Open</th>\n",
              "      <th>Adj High</th>\n",
              "      <th>Adj Low</th>\n",
              "      <th>Adj Close</th>\n",
              "      <th>Adj Final</th>\n",
              "      <th>day_of_week</th>\n",
              "      <th>dayofyear</th>\n",
              "      <th>days_in_month</th>\n",
              "      <th>is_month_start</th>\n",
              "      <th>is_year_start</th>\n",
              "      <th>dayofweek</th>\n",
              "      <th>month</th>\n",
              "      <th>high_low_difference_precentage</th>\n",
              "      <th>open_high_difference_precentage</th>\n",
              "      <th>open_low_difference_precentage</th>\n",
              "      <th>open_close_difference_percentage</th>\n",
              "      <th>High_close_difference_percentage</th>\n",
              "      <th>low_close_difference_percentage</th>\n",
              "    </tr>\n",
              "  </thead>\n",
              "  <tbody>\n",
              "    <tr>\n",
              "      <th>598</th>\n",
              "      <td>10170</td>\n",
              "      <td>10360</td>\n",
              "      <td>9940</td>\n",
              "      <td>10360</td>\n",
              "      <td>10310</td>\n",
              "      <td>2081720</td>\n",
              "      <td>21456230410</td>\n",
              "      <td>10170</td>\n",
              "      <td>10360</td>\n",
              "      <td>9940</td>\n",
              "      <td>10360</td>\n",
              "      <td>10310</td>\n",
              "      <td>0</td>\n",
              "      <td>310</td>\n",
              "      <td>2</td>\n",
              "      <td>0</td>\n",
              "      <td>0</td>\n",
              "      <td>0</td>\n",
              "      <td>11</td>\n",
              "      <td>4.137931</td>\n",
              "      <td>-1.850950</td>\n",
              "      <td>2.287419</td>\n",
              "      <td>-1.850950</td>\n",
              "      <td>0.000000</td>\n",
              "      <td>-4.137931</td>\n",
              "    </tr>\n",
              "    <tr>\n",
              "      <th>599</th>\n",
              "      <td>10380</td>\n",
              "      <td>10630</td>\n",
              "      <td>10380</td>\n",
              "      <td>10400</td>\n",
              "      <td>10470</td>\n",
              "      <td>1330663</td>\n",
              "      <td>13974595350</td>\n",
              "      <td>10380</td>\n",
              "      <td>10630</td>\n",
              "      <td>10380</td>\n",
              "      <td>10400</td>\n",
              "      <td>10470</td>\n",
              "      <td>1</td>\n",
              "      <td>311</td>\n",
              "      <td>2</td>\n",
              "      <td>0</td>\n",
              "      <td>0</td>\n",
              "      <td>1</td>\n",
              "      <td>11</td>\n",
              "      <td>2.379819</td>\n",
              "      <td>-2.379819</td>\n",
              "      <td>0.000000</td>\n",
              "      <td>-0.192493</td>\n",
              "      <td>2.187351</td>\n",
              "      <td>-0.192493</td>\n",
              "    </tr>\n",
              "    <tr>\n",
              "      <th>600</th>\n",
              "      <td>10460</td>\n",
              "      <td>10460</td>\n",
              "      <td>10100</td>\n",
              "      <td>10200</td>\n",
              "      <td>10310</td>\n",
              "      <td>1261833</td>\n",
              "      <td>12956506920</td>\n",
              "      <td>10460</td>\n",
              "      <td>10460</td>\n",
              "      <td>10100</td>\n",
              "      <td>10200</td>\n",
              "      <td>10310</td>\n",
              "      <td>2</td>\n",
              "      <td>312</td>\n",
              "      <td>2</td>\n",
              "      <td>0</td>\n",
              "      <td>0</td>\n",
              "      <td>2</td>\n",
              "      <td>11</td>\n",
              "      <td>3.501946</td>\n",
              "      <td>0.000000</td>\n",
              "      <td>3.501946</td>\n",
              "      <td>2.516941</td>\n",
              "      <td>2.516941</td>\n",
              "      <td>-0.985222</td>\n",
              "    </tr>\n",
              "    <tr>\n",
              "      <th>601</th>\n",
              "      <td>10320</td>\n",
              "      <td>10570</td>\n",
              "      <td>10220</td>\n",
              "      <td>10240</td>\n",
              "      <td>10340</td>\n",
              "      <td>994734</td>\n",
              "      <td>10302749270</td>\n",
              "      <td>10320</td>\n",
              "      <td>10570</td>\n",
              "      <td>10220</td>\n",
              "      <td>10240</td>\n",
              "      <td>10340</td>\n",
              "      <td>0</td>\n",
              "      <td>317</td>\n",
              "      <td>2</td>\n",
              "      <td>0</td>\n",
              "      <td>0</td>\n",
              "      <td>0</td>\n",
              "      <td>11</td>\n",
              "      <td>3.367003</td>\n",
              "      <td>-2.393490</td>\n",
              "      <td>0.973710</td>\n",
              "      <td>0.778210</td>\n",
              "      <td>3.171552</td>\n",
              "      <td>-0.195503</td>\n",
              "    </tr>\n",
              "    <tr>\n",
              "      <th>602</th>\n",
              "      <td>10130</td>\n",
              "      <td>10220</td>\n",
              "      <td>9830</td>\n",
              "      <td>10110</td>\n",
              "      <td>10040</td>\n",
              "      <td>2025283</td>\n",
              "      <td>20341347120</td>\n",
              "      <td>10130</td>\n",
              "      <td>10220</td>\n",
              "      <td>9830</td>\n",
              "      <td>10110</td>\n",
              "      <td>10040</td>\n",
              "      <td>1</td>\n",
              "      <td>318</td>\n",
              "      <td>2</td>\n",
              "      <td>0</td>\n",
              "      <td>0</td>\n",
              "      <td>1</td>\n",
              "      <td>11</td>\n",
              "      <td>3.890274</td>\n",
              "      <td>-0.884521</td>\n",
              "      <td>3.006012</td>\n",
              "      <td>0.197628</td>\n",
              "      <td>1.082145</td>\n",
              "      <td>-2.808425</td>\n",
              "    </tr>\n",
              "  </tbody>\n",
              "</table>\n",
              "</div>"
            ],
            "text/plain": [
              "      Open   High    Low  Close  Final   Volume        Value  Adj Open  \\\n",
              "598  10170  10360   9940  10360  10310  2081720  21456230410     10170   \n",
              "599  10380  10630  10380  10400  10470  1330663  13974595350     10380   \n",
              "600  10460  10460  10100  10200  10310  1261833  12956506920     10460   \n",
              "601  10320  10570  10220  10240  10340   994734  10302749270     10320   \n",
              "602  10130  10220   9830  10110  10040  2025283  20341347120     10130   \n",
              "\n",
              "     Adj High  Adj Low  Adj Close  Adj Final  day_of_week  dayofyear  \\\n",
              "598     10360     9940      10360      10310            0        310   \n",
              "599     10630    10380      10400      10470            1        311   \n",
              "600     10460    10100      10200      10310            2        312   \n",
              "601     10570    10220      10240      10340            0        317   \n",
              "602     10220     9830      10110      10040            1        318   \n",
              "\n",
              "     days_in_month  is_month_start  is_year_start  dayofweek  month  \\\n",
              "598              2               0              0          0     11   \n",
              "599              2               0              0          1     11   \n",
              "600              2               0              0          2     11   \n",
              "601              2               0              0          0     11   \n",
              "602              2               0              0          1     11   \n",
              "\n",
              "     high_low_difference_precentage  open_high_difference_precentage  \\\n",
              "598                        4.137931                        -1.850950   \n",
              "599                        2.379819                        -2.379819   \n",
              "600                        3.501946                         0.000000   \n",
              "601                        3.367003                        -2.393490   \n",
              "602                        3.890274                        -0.884521   \n",
              "\n",
              "     open_low_difference_precentage  open_close_difference_percentage  \\\n",
              "598                        2.287419                         -1.850950   \n",
              "599                        0.000000                         -0.192493   \n",
              "600                        3.501946                          2.516941   \n",
              "601                        0.973710                          0.778210   \n",
              "602                        3.006012                          0.197628   \n",
              "\n",
              "     High_close_difference_percentage  low_close_difference_percentage  \n",
              "598                          0.000000                        -4.137931  \n",
              "599                          2.187351                        -0.192493  \n",
              "600                          2.516941                        -0.985222  \n",
              "601                          3.171552                        -0.195503  \n",
              "602                          1.082145                        -2.808425  "
            ]
          },
          "execution_count": 25,
          "metadata": {},
          "output_type": "execute_result"
        }
      ],
      "source": [
        "df.tail()"
      ]
    },
    {
      "cell_type": "code",
      "execution_count": 30,
      "id": "VygXsLGJkkk5",
      "metadata": {
        "id": "VygXsLGJkkk5"
      },
      "outputs": [],
      "source": [
        "df.loc[df.adj_close_training.isna()]\n",
        "\n",
        "df.dropna(inplace=True)"
      ]
    },
    {
      "cell_type": "code",
      "execution_count": 31,
      "id": "AEjrJRdOla0E",
      "metadata": {
        "colab": {
          "base_uri": "https://localhost:8080/"
        },
        "id": "AEjrJRdOla0E",
        "outputId": "6dbb8ef9-be64-4355-da4e-dc65432d125f"
      },
      "outputs": [
        {
          "data": {
            "text/plain": [
              "(601, 26)"
            ]
          },
          "execution_count": 31,
          "metadata": {},
          "output_type": "execute_result"
        }
      ],
      "source": [
        "df.shape"
      ]
    },
    {
      "cell_type": "code",
      "execution_count": 32,
      "id": "yMMvgfxvSloN",
      "metadata": {
        "id": "yMMvgfxvSloN"
      },
      "outputs": [],
      "source": [
        "import seaborn as sns"
      ]
    },
    {
      "cell_type": "code",
      "execution_count": 33,
      "id": "5uMCNDPdT-Er",
      "metadata": {
        "id": "5uMCNDPdT-Er"
      },
      "outputs": [],
      "source": [
        "from keras.models import Sequential\n",
        "from keras.layers import Dense,InputLayer,LSTM,BatchNormalization,Dropout"
      ]
    },
    {
      "cell_type": "code",
      "execution_count": 34,
      "id": "U0X4AILgXGQT",
      "metadata": {
        "id": "U0X4AILgXGQT"
      },
      "outputs": [],
      "source": [
        "# df.drop(columns=['High','Low'],inplace=True)"
      ]
    },
    {
      "cell_type": "code",
      "execution_count": 37,
      "id": "LQf__75yXNdj",
      "metadata": {
        "id": "LQf__75yXNdj"
      },
      "outputs": [],
      "source": [
        "x = df.drop(columns=['Adj Close','adj_close_training'])\n",
        "y = df['adj_close_training']"
      ]
    },
    {
      "cell_type": "code",
      "execution_count": 38,
      "id": "tv3Er0qaY6Kj",
      "metadata": {
        "id": "tv3Er0qaY6Kj"
      },
      "outputs": [],
      "source": [
        "x = np.asanyarray(x)\n",
        "y = np.asanyarray(y)\n",
        "# x = x.reshape(-1,1)\n",
        "y = y.reshape(-1,1)"
      ]
    },
    {
      "cell_type": "code",
      "execution_count": 39,
      "id": "udk9HnqHPZlS",
      "metadata": {
        "id": "udk9HnqHPZlS"
      },
      "outputs": [],
      "source": [
        "from sklearn.preprocessing import StandardScaler"
      ]
    },
    {
      "cell_type": "code",
      "execution_count": 40,
      "id": "CS_CWntCPhNd",
      "metadata": {
        "id": "CS_CWntCPhNd"
      },
      "outputs": [],
      "source": [
        "scaler = StandardScaler()\n",
        "x = scaler.fit_transform(x)"
      ]
    },
    {
      "cell_type": "code",
      "execution_count": 41,
      "id": "IwjorMluXV_M",
      "metadata": {
        "id": "IwjorMluXV_M"
      },
      "outputs": [],
      "source": [
        "from sklearn.model_selection import train_test_split"
      ]
    },
    {
      "cell_type": "code",
      "execution_count": 42,
      "id": "k1PHfdk1Xd1A",
      "metadata": {
        "id": "k1PHfdk1Xd1A"
      },
      "outputs": [],
      "source": [
        "x_train,x_test,y_train,y_test = train_test_split(x,y,test_size=0.2,random_state=56)"
      ]
    },
    {
      "cell_type": "code",
      "execution_count": 44,
      "id": "f2gdwHa0XuJ_",
      "metadata": {
        "colab": {
          "base_uri": "https://localhost:8080/"
        },
        "id": "f2gdwHa0XuJ_",
        "outputId": "4feb1be5-7053-407d-dade-7faa52bc5497"
      },
      "outputs": [
        {
          "data": {
            "text/plain": [
              "((480, 24), (121, 24), (480, 1), (121, 1))"
            ]
          },
          "execution_count": 44,
          "metadata": {},
          "output_type": "execute_result"
        }
      ],
      "source": [
        "x_train.shape,x_test.shape,y_train.shape,y_test.shape"
      ]
    },
    {
      "cell_type": "code",
      "execution_count": 49,
      "id": "tzl3RJW3U5Ay",
      "metadata": {
        "id": "tzl3RJW3U5Ay"
      },
      "outputs": [],
      "source": [
        "model = Sequential()\n",
        "model.add(LSTM(128,activation='tanh',input_shape=(24,1),return_sequences=True))\n",
        "model.add(LSTM(64,activation='tanh'))\n",
        "model.add(Dense(200,activation='relu'))\n",
        "model.add(Dense(100,activation='relu'))\n",
        "model.add(Dense(1,activation='linear'))"
      ]
    },
    {
      "cell_type": "code",
      "execution_count": 50,
      "id": "0Np2aYnyaE9D",
      "metadata": {
        "colab": {
          "base_uri": "https://localhost:8080/"
        },
        "id": "0Np2aYnyaE9D",
        "outputId": "6f34fe83-0cd8-444b-dfbb-83f977d28adf"
      },
      "outputs": [
        {
          "name": "stdout",
          "output_type": "stream",
          "text": [
            "Model: \"sequential_1\"\n",
            "_________________________________________________________________\n",
            " Layer (type)                Output Shape              Param #   \n",
            "=================================================================\n",
            " lstm_2 (LSTM)               (None, 24, 128)           66560     \n",
            "                                                                 \n",
            " lstm_3 (LSTM)               (None, 64)                49408     \n",
            "                                                                 \n",
            " dense_3 (Dense)             (None, 200)               13000     \n",
            "                                                                 \n",
            " dense_4 (Dense)             (None, 100)               20100     \n",
            "                                                                 \n",
            " dense_5 (Dense)             (None, 1)                 101       \n",
            "                                                                 \n",
            "=================================================================\n",
            "Total params: 149,169\n",
            "Trainable params: 149,169\n",
            "Non-trainable params: 0\n",
            "_________________________________________________________________\n"
          ]
        }
      ],
      "source": [
        "model.summary()"
      ]
    },
    {
      "cell_type": "code",
      "execution_count": 51,
      "id": "T_tQ12JdaLsO",
      "metadata": {
        "id": "T_tQ12JdaLsO"
      },
      "outputs": [],
      "source": [
        "from keras.optimizers import Adam\n",
        "adam = Adam(learning_rate=0.001)\n",
        "model.compile(optimizer=adam,loss='mean_squared_error',metrics=['mae'])"
      ]
    },
    {
      "cell_type": "code",
      "execution_count": 52,
      "id": "e6o3hQqHaWYW",
      "metadata": {
        "colab": {
          "base_uri": "https://localhost:8080/"
        },
        "id": "e6o3hQqHaWYW",
        "outputId": "d9877672-3b89-4f07-da91-bb48500d8a53"
      },
      "outputs": [
        {
          "name": "stdout",
          "output_type": "stream",
          "text": [
            "Epoch 1/100\n",
            "8/8 [==============================] - 3s 114ms/step - loss: 129043144.0000 - mae: 11165.7998 - val_loss: 127038104.0000 - val_mae: 11053.4688\n",
            "Epoch 2/100\n",
            "8/8 [==============================] - 0s 27ms/step - loss: 128974648.0000 - mae: 11162.9102 - val_loss: 126884968.0000 - val_mae: 11046.9092\n",
            "Epoch 3/100\n",
            "8/8 [==============================] - 0s 29ms/step - loss: 128741552.0000 - mae: 11153.0098 - val_loss: 126562152.0000 - val_mae: 11033.1475\n",
            "Epoch 4/100\n",
            "8/8 [==============================] - 0s 27ms/step - loss: 128284968.0000 - mae: 11133.5781 - val_loss: 125931648.0000 - val_mae: 11005.9941\n",
            "Epoch 5/100\n",
            "8/8 [==============================] - 0s 28ms/step - loss: 127465880.0000 - mae: 11098.2090 - val_loss: 124888656.0000 - val_mae: 10960.4688\n",
            "Epoch 6/100\n",
            "8/8 [==============================] - 0s 26ms/step - loss: 126204576.0000 - mae: 11043.3125 - val_loss: 123453200.0000 - val_mae: 10898.0508\n",
            "Epoch 7/100\n",
            "8/8 [==============================] - 0s 28ms/step - loss: 124533064.0000 - mae: 10970.3145 - val_loss: 121433976.0000 - val_mae: 10808.2129\n",
            "Epoch 8/100\n",
            "8/8 [==============================] - 0s 26ms/step - loss: 122011320.0000 - mae: 10857.9082 - val_loss: 118521848.0000 - val_mae: 10675.8369\n",
            "Epoch 9/100\n",
            "8/8 [==============================] - 0s 25ms/step - loss: 118707992.0000 - mae: 10708.1660 - val_loss: 114872544.0000 - val_mae: 10508.0205\n",
            "Epoch 10/100\n",
            "8/8 [==============================] - 0s 26ms/step - loss: 114602272.0000 - mae: 10518.6357 - val_loss: 110341320.0000 - val_mae: 10295.1504\n",
            "Epoch 11/100\n",
            "8/8 [==============================] - 0s 26ms/step - loss: 109382952.0000 - mae: 10272.5654 - val_loss: 104644848.0000 - val_mae: 10021.1035\n",
            "Epoch 12/100\n",
            "8/8 [==============================] - 0s 27ms/step - loss: 103102000.0000 - mae: 9969.5723 - val_loss: 97929896.0000 - val_mae: 9688.7510\n",
            "Epoch 13/100\n",
            "8/8 [==============================] - 0s 26ms/step - loss: 95801112.0000 - mae: 9603.6260 - val_loss: 90284064.0000 - val_mae: 9297.0938\n",
            "Epoch 14/100\n",
            "8/8 [==============================] - 0s 26ms/step - loss: 87436240.0000 - mae: 9168.9189 - val_loss: 81686440.0000 - val_mae: 8835.3467\n",
            "Epoch 15/100\n",
            "8/8 [==============================] - 0s 27ms/step - loss: 78188272.0000 - mae: 8662.4658 - val_loss: 72322608.0000 - val_mae: 8303.3145\n",
            "Epoch 16/100\n",
            "8/8 [==============================] - 0s 27ms/step - loss: 68317072.0000 - mae: 8086.3511 - val_loss: 62425220.0000 - val_mae: 7701.7744\n",
            "Epoch 17/100\n",
            "8/8 [==============================] - 0s 26ms/step - loss: 57934592.0000 - mae: 7436.9639 - val_loss: 52342692.0000 - val_mae: 7035.1904\n",
            "Epoch 18/100\n",
            "8/8 [==============================] - 0s 25ms/step - loss: 47707520.0000 - mae: 6724.1895 - val_loss: 42361008.0000 - val_mae: 6307.1973\n",
            "Epoch 19/100\n",
            "8/8 [==============================] - 0s 26ms/step - loss: 37676344.0000 - mae: 5952.8833 - val_loss: 32975056.0000 - val_mae: 5534.2769\n",
            "Epoch 20/100\n",
            "8/8 [==============================] - 0s 25ms/step - loss: 28462686.0000 - mae: 5141.5591 - val_loss: 24522290.0000 - val_mae: 4731.1836\n",
            "Epoch 21/100\n",
            "8/8 [==============================] - 0s 26ms/step - loss: 20466482.0000 - mae: 4307.4209 - val_loss: 17325314.0000 - val_mae: 3918.7361\n",
            "Epoch 22/100\n",
            "8/8 [==============================] - 0s 25ms/step - loss: 13888834.0000 - mae: 3475.7427 - val_loss: 11631815.0000 - val_mae: 3126.5295\n",
            "Epoch 23/100\n",
            "8/8 [==============================] - 0s 27ms/step - loss: 8867550.0000 - mae: 2682.1545 - val_loss: 7500535.5000 - val_mae: 2389.6135\n",
            "Epoch 24/100\n",
            "8/8 [==============================] - 0s 24ms/step - loss: 5532677.0000 - mae: 1962.6444 - val_loss: 4758920.5000 - val_mae: 1759.3104\n",
            "Epoch 25/100\n",
            "8/8 [==============================] - 0s 25ms/step - loss: 3476059.0000 - mae: 1428.2120 - val_loss: 3150252.0000 - val_mae: 1349.6188\n",
            "Epoch 26/100\n",
            "8/8 [==============================] - 0s 28ms/step - loss: 2375995.5000 - mae: 1134.7966 - val_loss: 2332527.0000 - val_mae: 1143.8835\n",
            "Epoch 27/100\n",
            "8/8 [==============================] - 0s 28ms/step - loss: 1906326.7500 - mae: 1055.8221 - val_loss: 1965906.0000 - val_mae: 1072.4210\n",
            "Epoch 28/100\n",
            "8/8 [==============================] - 0s 26ms/step - loss: 1729903.2500 - mae: 1043.9280 - val_loss: 1828475.0000 - val_mae: 1052.7159\n",
            "Epoch 29/100\n",
            "8/8 [==============================] - 0s 26ms/step - loss: 1680012.3750 - mae: 1051.2609 - val_loss: 1783956.1250 - val_mae: 1044.2046\n",
            "Epoch 30/100\n",
            "8/8 [==============================] - 0s 27ms/step - loss: 1671297.6250 - mae: 1058.5234 - val_loss: 1771140.8750 - val_mae: 1041.8778\n",
            "Epoch 31/100\n",
            "8/8 [==============================] - 0s 24ms/step - loss: 1671453.1250 - mae: 1062.2384 - val_loss: 1768375.0000 - val_mae: 1041.1006\n",
            "Epoch 32/100\n",
            "8/8 [==============================] - 0s 25ms/step - loss: 1669244.0000 - mae: 1060.4828 - val_loss: 1772698.3750 - val_mae: 1040.3372\n",
            "Epoch 33/100\n",
            "8/8 [==============================] - 0s 25ms/step - loss: 1667372.0000 - mae: 1057.1272 - val_loss: 1780391.3750 - val_mae: 1039.3037\n",
            "Epoch 34/100\n",
            "8/8 [==============================] - 0s 25ms/step - loss: 1664296.1250 - mae: 1053.8175 - val_loss: 1784278.8750 - val_mae: 1039.1536\n",
            "Epoch 35/100\n",
            "8/8 [==============================] - 0s 26ms/step - loss: 1665666.8750 - mae: 1051.1320 - val_loss: 1793598.1250 - val_mae: 1039.1685\n",
            "Epoch 36/100\n",
            "8/8 [==============================] - 0s 27ms/step - loss: 1664400.5000 - mae: 1047.7667 - val_loss: 1796841.5000 - val_mae: 1039.1470\n",
            "Epoch 37/100\n",
            "8/8 [==============================] - 0s 27ms/step - loss: 1664633.8750 - mae: 1047.9088 - val_loss: 1794530.7500 - val_mae: 1039.2163\n",
            "Epoch 38/100\n",
            "8/8 [==============================] - 0s 27ms/step - loss: 1665294.2500 - mae: 1047.7137 - val_loss: 1799219.8750 - val_mae: 1039.1215\n",
            "Epoch 39/100\n",
            "8/8 [==============================] - 0s 26ms/step - loss: 1664104.8750 - mae: 1046.2589 - val_loss: 1799496.2500 - val_mae: 1039.1847\n",
            "Epoch 40/100\n",
            "8/8 [==============================] - 0s 24ms/step - loss: 1664466.0000 - mae: 1047.0789 - val_loss: 1795062.8750 - val_mae: 1039.1724\n",
            "Epoch 41/100\n",
            "8/8 [==============================] - 0s 27ms/step - loss: 1663643.7500 - mae: 1047.7896 - val_loss: 1795342.6250 - val_mae: 1039.2866\n",
            "Epoch 42/100\n",
            "8/8 [==============================] - 0s 24ms/step - loss: 1664102.1250 - mae: 1047.2052 - val_loss: 1796696.6250 - val_mae: 1039.4908\n",
            "Epoch 43/100\n",
            "8/8 [==============================] - 0s 24ms/step - loss: 1664537.2500 - mae: 1047.0588 - val_loss: 1797212.0000 - val_mae: 1039.6733\n",
            "Epoch 44/100\n",
            "8/8 [==============================] - 0s 24ms/step - loss: 1663950.7500 - mae: 1046.7385 - val_loss: 1798343.6250 - val_mae: 1039.5286\n",
            "Epoch 45/100\n",
            "8/8 [==============================] - 0s 24ms/step - loss: 1664133.6250 - mae: 1046.6769 - val_loss: 1797552.0000 - val_mae: 1039.2588\n",
            "Epoch 46/100\n",
            "8/8 [==============================] - 0s 27ms/step - loss: 1664310.6250 - mae: 1047.4364 - val_loss: 1796639.8750 - val_mae: 1039.3643\n",
            "Epoch 47/100\n",
            "8/8 [==============================] - 0s 24ms/step - loss: 1663727.3750 - mae: 1047.0391 - val_loss: 1797708.7500 - val_mae: 1039.2561\n",
            "Epoch 48/100\n",
            "8/8 [==============================] - 0s 25ms/step - loss: 1663803.6250 - mae: 1046.3749 - val_loss: 1799607.2500 - val_mae: 1039.0261\n",
            "Epoch 49/100\n",
            "8/8 [==============================] - 0s 26ms/step - loss: 1664312.2500 - mae: 1045.2513 - val_loss: 1801697.2500 - val_mae: 1039.1073\n",
            "Epoch 50/100\n",
            "8/8 [==============================] - 0s 27ms/step - loss: 1663498.7500 - mae: 1045.7751 - val_loss: 1796976.6250 - val_mae: 1038.7041\n",
            "Epoch 51/100\n",
            "8/8 [==============================] - 0s 26ms/step - loss: 1717709.6250 - mae: 1049.2975 - val_loss: 1788623.5000 - val_mae: 1037.5762\n",
            "Epoch 52/100\n",
            "8/8 [==============================] - 0s 23ms/step - loss: 1690637.7500 - mae: 1050.4363 - val_loss: 2100749.5000 - val_mae: 1079.9486\n",
            "Epoch 53/100\n",
            "8/8 [==============================] - 0s 29ms/step - loss: 1832931.7500 - mae: 1031.9044 - val_loss: 2104063.7500 - val_mae: 1070.1913\n",
            "Epoch 54/100\n",
            "8/8 [==============================] - 0s 26ms/step - loss: 1812016.7500 - mae: 1003.1716 - val_loss: 2091178.0000 - val_mae: 1092.4697\n",
            "Epoch 55/100\n",
            "8/8 [==============================] - 0s 26ms/step - loss: 1805140.0000 - mae: 997.5062 - val_loss: 2046117.3750 - val_mae: 1028.5013\n",
            "Epoch 56/100\n",
            "8/8 [==============================] - 0s 26ms/step - loss: 1696724.1250 - mae: 959.4001 - val_loss: 1854808.6250 - val_mae: 1008.7700\n",
            "Epoch 57/100\n",
            "8/8 [==============================] - 0s 28ms/step - loss: 1461655.6250 - mae: 872.6163 - val_loss: 1762233.6250 - val_mae: 946.5317\n",
            "Epoch 58/100\n",
            "8/8 [==============================] - 0s 26ms/step - loss: 1556501.3750 - mae: 946.9173 - val_loss: 1718152.7500 - val_mae: 953.9672\n",
            "Epoch 59/100\n",
            "8/8 [==============================] - 0s 25ms/step - loss: 1481916.6250 - mae: 843.8297 - val_loss: 1245951.1250 - val_mae: 706.1104\n",
            "Epoch 60/100\n",
            "8/8 [==============================] - 0s 24ms/step - loss: 1060206.6250 - mae: 704.6948 - val_loss: 1152366.6250 - val_mae: 714.4019\n",
            "Epoch 61/100\n",
            "8/8 [==============================] - 0s 24ms/step - loss: 867879.9375 - mae: 626.1448 - val_loss: 918294.5000 - val_mae: 607.6342\n",
            "Epoch 62/100\n",
            "8/8 [==============================] - 0s 26ms/step - loss: 611865.8125 - mae: 503.3700 - val_loss: 663513.3125 - val_mae: 518.9747\n",
            "Epoch 63/100\n",
            "8/8 [==============================] - 0s 27ms/step - loss: 522435.8125 - mae: 469.1559 - val_loss: 587999.9375 - val_mae: 482.8707\n",
            "Epoch 64/100\n",
            "8/8 [==============================] - 0s 25ms/step - loss: 478466.3438 - mae: 457.6235 - val_loss: 531230.8125 - val_mae: 469.5512\n",
            "Epoch 65/100\n",
            "8/8 [==============================] - 0s 29ms/step - loss: 404890.9062 - mae: 428.8883 - val_loss: 493029.3438 - val_mae: 440.6714\n",
            "Epoch 66/100\n",
            "8/8 [==============================] - 0s 28ms/step - loss: 367631.3438 - mae: 410.5046 - val_loss: 430412.0938 - val_mae: 417.2675\n",
            "Epoch 67/100\n",
            "8/8 [==============================] - 0s 25ms/step - loss: 324576.9375 - mae: 371.5351 - val_loss: 418533.8438 - val_mae: 407.8947\n",
            "Epoch 68/100\n",
            "8/8 [==============================] - 0s 27ms/step - loss: 340791.0000 - mae: 404.6609 - val_loss: 353535.2188 - val_mae: 368.6201\n",
            "Epoch 69/100\n",
            "8/8 [==============================] - 0s 27ms/step - loss: 559991.6250 - mae: 492.6342 - val_loss: 761851.7500 - val_mae: 679.8911\n",
            "Epoch 70/100\n",
            "8/8 [==============================] - 0s 23ms/step - loss: 569922.5625 - mae: 597.2056 - val_loss: 462184.9688 - val_mae: 485.4637\n",
            "Epoch 71/100\n",
            "8/8 [==============================] - 0s 27ms/step - loss: 369690.0000 - mae: 447.7608 - val_loss: 391769.4062 - val_mae: 415.6971\n",
            "Epoch 72/100\n",
            "8/8 [==============================] - 0s 25ms/step - loss: 334919.4688 - mae: 413.3313 - val_loss: 423163.4375 - val_mae: 442.2390\n",
            "Epoch 73/100\n",
            "8/8 [==============================] - 0s 26ms/step - loss: 305119.0312 - mae: 397.5718 - val_loss: 321218.7188 - val_mae: 366.3451\n",
            "Epoch 74/100\n",
            "8/8 [==============================] - 0s 24ms/step - loss: 335948.8750 - mae: 422.2363 - val_loss: 408066.2500 - val_mae: 427.0520\n",
            "Epoch 75/100\n",
            "8/8 [==============================] - 0s 23ms/step - loss: 412394.8750 - mae: 447.0928 - val_loss: 443889.7812 - val_mae: 491.5062\n",
            "Epoch 76/100\n",
            "8/8 [==============================] - 0s 26ms/step - loss: 375696.5938 - mae: 444.5292 - val_loss: 382202.7812 - val_mae: 423.4582\n",
            "Epoch 77/100\n",
            "8/8 [==============================] - 0s 25ms/step - loss: 315132.9375 - mae: 412.4035 - val_loss: 375594.7812 - val_mae: 425.0654\n",
            "Epoch 78/100\n",
            "8/8 [==============================] - 0s 26ms/step - loss: 293238.6875 - mae: 396.7737 - val_loss: 305262.2500 - val_mae: 389.2592\n",
            "Epoch 79/100\n",
            "8/8 [==============================] - 0s 26ms/step - loss: 252432.7656 - mae: 374.1556 - val_loss: 277160.7500 - val_mae: 343.3127\n",
            "Epoch 80/100\n",
            "8/8 [==============================] - 0s 27ms/step - loss: 250376.6406 - mae: 366.1510 - val_loss: 279157.0625 - val_mae: 352.5162\n",
            "Epoch 81/100\n",
            "8/8 [==============================] - 0s 27ms/step - loss: 237081.6406 - mae: 356.3968 - val_loss: 276774.8125 - val_mae: 360.9756\n",
            "Epoch 82/100\n",
            "8/8 [==============================] - 0s 26ms/step - loss: 230414.5156 - mae: 354.1670 - val_loss: 258318.5469 - val_mae: 347.0922\n",
            "Epoch 83/100\n",
            "8/8 [==============================] - 0s 27ms/step - loss: 234543.0625 - mae: 355.4970 - val_loss: 288551.3750 - val_mae: 393.1657\n",
            "Epoch 84/100\n",
            "8/8 [==============================] - 0s 28ms/step - loss: 223049.0156 - mae: 355.9085 - val_loss: 239896.5781 - val_mae: 326.1933\n",
            "Epoch 85/100\n",
            "8/8 [==============================] - 0s 27ms/step - loss: 235582.8125 - mae: 356.3538 - val_loss: 271564.2188 - val_mae: 350.1564\n",
            "Epoch 86/100\n",
            "8/8 [==============================] - 0s 25ms/step - loss: 227163.3594 - mae: 356.8408 - val_loss: 243693.8281 - val_mae: 331.1701\n",
            "Epoch 87/100\n",
            "8/8 [==============================] - 0s 26ms/step - loss: 240751.1719 - mae: 363.8441 - val_loss: 280117.5000 - val_mae: 365.4929\n",
            "Epoch 88/100\n",
            "8/8 [==============================] - 0s 27ms/step - loss: 229377.2969 - mae: 354.0592 - val_loss: 238337.8906 - val_mae: 329.6357\n",
            "Epoch 89/100\n",
            "8/8 [==============================] - 0s 26ms/step - loss: 226726.6094 - mae: 350.2718 - val_loss: 265321.4688 - val_mae: 358.6194\n",
            "Epoch 90/100\n",
            "8/8 [==============================] - 0s 25ms/step - loss: 230469.8594 - mae: 367.8262 - val_loss: 257421.9531 - val_mae: 340.7628\n",
            "Epoch 91/100\n",
            "8/8 [==============================] - 0s 26ms/step - loss: 244691.6562 - mae: 374.1589 - val_loss: 225165.7812 - val_mae: 321.8083\n",
            "Epoch 92/100\n",
            "8/8 [==============================] - 0s 27ms/step - loss: 208129.5469 - mae: 340.9908 - val_loss: 255729.7188 - val_mae: 379.4201\n",
            "Epoch 93/100\n",
            "8/8 [==============================] - 0s 25ms/step - loss: 218395.2344 - mae: 357.9769 - val_loss: 232973.5938 - val_mae: 356.1454\n",
            "Epoch 94/100\n",
            "8/8 [==============================] - 0s 25ms/step - loss: 226628.6875 - mae: 362.7012 - val_loss: 238808.7656 - val_mae: 348.4250\n",
            "Epoch 95/100\n",
            "8/8 [==============================] - 0s 27ms/step - loss: 205869.6719 - mae: 342.5835 - val_loss: 211788.9375 - val_mae: 314.9966\n",
            "Epoch 96/100\n",
            "8/8 [==============================] - 0s 26ms/step - loss: 201306.2656 - mae: 339.6880 - val_loss: 204244.0000 - val_mae: 323.2036\n",
            "Epoch 97/100\n",
            "8/8 [==============================] - 0s 25ms/step - loss: 198023.2344 - mae: 338.3615 - val_loss: 200117.8125 - val_mae: 304.3126\n",
            "Epoch 98/100\n",
            "8/8 [==============================] - 0s 26ms/step - loss: 197149.0000 - mae: 337.8900 - val_loss: 202836.9531 - val_mae: 314.7964\n",
            "Epoch 99/100\n",
            "8/8 [==============================] - 0s 25ms/step - loss: 198942.4219 - mae: 334.4261 - val_loss: 219000.6875 - val_mae: 340.9711\n",
            "Epoch 100/100\n",
            "8/8 [==============================] - 0s 27ms/step - loss: 205704.3594 - mae: 341.5770 - val_loss: 193947.0156 - val_mae: 327.8633\n"
          ]
        }
      ],
      "source": [
        "model_history = model.fit(x_train,y_train,batch_size=64,epochs=100,validation_data=(x_test,y_test))"
      ]
    },
    {
      "cell_type": "code",
      "execution_count": 53,
      "id": "kobkAUURWScF",
      "metadata": {
        "colab": {
          "base_uri": "https://localhost:8080/",
          "height": 462
        },
        "id": "kobkAUURWScF",
        "outputId": "9781bbcf-d4f2-4d0f-90de-3a4601dc85a3"
      },
      "outputs": [
        {
          "data": {
            "text/plain": [
              "<matplotlib.legend.Legend at 0x2af9938a430>"
            ]
          },
          "execution_count": 53,
          "metadata": {},
          "output_type": "execute_result"
        },
        {
          "data": {
            "image/png": "[encoded data removed]",
            "text/plain": [
              "<Figure size 640x480 with 1 Axes>"
            ]
          },
          "metadata": {},
          "output_type": "display_data"
        }
      ],
      "source": [
        "plt.plot(model_history.history['loss'],label=\"trainingLoss\")\n",
        "plt.plot(model_history.history['val_loss'],label ='test_loss')\n",
        "plt.legend()"
      ]
    },
    {
      "cell_type": "code",
      "execution_count": 54,
      "id": "QdIHZPhaWrED",
      "metadata": {
        "colab": {
          "base_uri": "https://localhost:8080/",
          "height": 447
        },
        "id": "QdIHZPhaWrED",
        "outputId": "bf176913-acdb-4d6f-c4b6-8ccd019e9e79"
      },
      "outputs": [
        {
          "data": {
            "text/plain": [
              "<matplotlib.legend.Legend at 0x2afa2f5e490>"
            ]
          },
          "execution_count": 54,
          "metadata": {},
          "output_type": "execute_result"
        },
        {
          "data": {
            "image/png": "[encoded data removed]",
            "text/plain": [
              "<Figure size 640x480 with 1 Axes>"
            ]
          },
          "metadata": {},
          "output_type": "display_data"
        }
      ],
      "source": [
        "plt.plot(model_history.history['mae'],label=\"training\")\n",
        "plt.plot(model_history.history['val_mae'],label ='test')\n",
        "plt.legend()"
      ]
    },
    {
      "cell_type": "code",
      "execution_count": 55,
      "id": "yXzQEw3MmT5C",
      "metadata": {
        "colab": {
          "base_uri": "https://localhost:8080/",
          "height": 465
        },
        "id": "yXzQEw3MmT5C",
        "outputId": "92290c2f-fdc4-453d-a261-079912123dc5"
      },
      "outputs": [
        {
          "name": "stdout",
          "output_type": "stream",
          "text": [
            "4/4 [==============================] - 1s 12ms/step\n"
          ]
        },
        {
          "data": {
            "text/plain": [
              "<matplotlib.legend.Legend at 0x2afa31e5160>"
            ]
          },
          "execution_count": 55,
          "metadata": {},
          "output_type": "execute_result"
        },
        {
          "data": {
            "image/png": "[encoded data removed]",
            "text/plain": [
              "<Figure size 640x480 with 1 Axes>"
            ]
          },
          "metadata": {},
          "output_type": "display_data"
        }
      ],
      "source": [
        "plt.plot(model.predict(x_test),label=\"predict\")\n",
        "plt.plot(y_test,label='real')\n",
        "plt.legend()"
      ]
    },
    {
      "cell_type": "code",
      "execution_count": 56,
      "id": "AVs3Og0inCqD",
      "metadata": {
        "colab": {
          "base_uri": "https://localhost:8080/",
          "height": 447
        },
        "id": "AVs3Og0inCqD",
        "outputId": "c31833d6-3f80-42ef-d637-ac2a0eef896f"
      },
      "outputs": [
        {
          "data": {
            "text/plain": [
              "[<matplotlib.lines.Line2D at 0x2afa42a4430>]"
            ]
          },
          "execution_count": 56,
          "metadata": {},
          "output_type": "execute_result"
        },
        {
          "data": {
            "image/png": "[encoded data removed]",
            "text/plain": [
              "<Figure size 640x480 with 1 Axes>"
            ]
          },
          "metadata": {},
          "output_type": "display_data"
        }
      ],
      "source": [
        "plt.plot(y_test,label='real')"
      ]
    },
    {
      "cell_type": "code",
      "execution_count": 57,
      "id": "mm0GUdz1nHhb",
      "metadata": {
        "id": "mm0GUdz1nHhb"
      },
      "outputs": [],
      "source": [
        "from sklearn.metrics import mean_absolute_error"
      ]
    },
    {
      "cell_type": "code",
      "execution_count": 58,
      "id": "-3Hw7y9bnYnG",
      "metadata": {
        "colab": {
          "base_uri": "https://localhost:8080/"
        },
        "id": "-3Hw7y9bnYnG",
        "outputId": "4add7632-e28f-4f52-e66c-ad866614e190"
      },
      "outputs": [
        {
          "name": "stdout",
          "output_type": "stream",
          "text": [
            "4/4 [==============================] - 0s 10ms/step\n"
          ]
        }
      ],
      "source": [
        "pred_ = model.predict(x_test)"
      ]
    },
    {
      "cell_type": "code",
      "execution_count": 59,
      "id": "I8GrUdrjnQmj",
      "metadata": {
        "colab": {
          "base_uri": "https://localhost:8080/"
        },
        "id": "I8GrUdrjnQmj",
        "outputId": "8cde4b65-990f-4018-9480-513b9511e886"
      },
      "outputs": [
        {
          "data": {
            "text/plain": [
              "327.86324896694214"
            ]
          },
          "execution_count": 59,
          "metadata": {},
          "output_type": "execute_result"
        }
      ],
      "source": [
        "mean_absolute_error(pred_,y_test)"
      ]
    },
    {
      "cell_type": "code",
      "execution_count": null,
      "id": "VTojpBxhnua4",
      "metadata": {
        "id": "VTojpBxhnua4"
      },
      "outputs": [],
      "source": [
        "# pred_.fla"
      ]
    },
    {
      "cell_type": "code",
      "execution_count": 61,
      "id": "Bu3muWPqngyY",
      "metadata": {
        "colab": {
          "base_uri": "https://localhost:8080/",
          "height": 423
        },
        "id": "Bu3muWPqngyY",
        "outputId": "49aa4ee2-c797-4dbb-fb93-041d920e4295"
      },
      "outputs": [],
      "source": [
        "df2=pd.DataFrame({\"prd\":pred_.flatten(),\"real\":y_test.flatten()})"
      ]
    },
    {
      "cell_type": "code",
      "execution_count": 62,
      "id": "1cb049cf",
      "metadata": {},
      "outputs": [
        {
          "data": {
            "text/html": [
              "<div>\n",
              "<style scoped>\n",
              "    .dataframe tbody tr th:only-of-type {\n",
              "        vertical-align: middle;\n",
              "    }\n",
              "\n",
              "    .dataframe tbody tr th {\n",
              "        vertical-align: top;\n",
              "    }\n",
              "\n",
              "    .dataframe thead th {\n",
              "        text-align: right;\n",
              "    }\n",
              "</style>\n",
              "<table border=\"1\" class=\"dataframe\">\n",
              "  <thead>\n",
              "    <tr style=\"text-align: right;\">\n",
              "      <th></th>\n",
              "      <th>prd</th>\n",
              "      <th>real</th>\n",
              "    </tr>\n",
              "  </thead>\n",
              "  <tbody>\n",
              "    <tr>\n",
              "      <th>0</th>\n",
              "      <td>9052.419922</td>\n",
              "      <td>9029.0</td>\n",
              "    </tr>\n",
              "    <tr>\n",
              "      <th>1</th>\n",
              "      <td>10123.534180</td>\n",
              "      <td>10210.0</td>\n",
              "    </tr>\n",
              "    <tr>\n",
              "      <th>2</th>\n",
              "      <td>10550.263672</td>\n",
              "      <td>10890.0</td>\n",
              "    </tr>\n",
              "    <tr>\n",
              "      <th>3</th>\n",
              "      <td>11406.938477</td>\n",
              "      <td>11630.0</td>\n",
              "    </tr>\n",
              "    <tr>\n",
              "      <th>4</th>\n",
              "      <td>11720.906250</td>\n",
              "      <td>11595.0</td>\n",
              "    </tr>\n",
              "    <tr>\n",
              "      <th>...</th>\n",
              "      <td>...</td>\n",
              "      <td>...</td>\n",
              "    </tr>\n",
              "    <tr>\n",
              "      <th>116</th>\n",
              "      <td>10370.188477</td>\n",
              "      <td>9420.0</td>\n",
              "    </tr>\n",
              "    <tr>\n",
              "      <th>117</th>\n",
              "      <td>9215.326172</td>\n",
              "      <td>9510.0</td>\n",
              "    </tr>\n",
              "    <tr>\n",
              "      <th>118</th>\n",
              "      <td>10669.772461</td>\n",
              "      <td>10580.0</td>\n",
              "    </tr>\n",
              "    <tr>\n",
              "      <th>119</th>\n",
              "      <td>8637.213867</td>\n",
              "      <td>8694.0</td>\n",
              "    </tr>\n",
              "    <tr>\n",
              "      <th>120</th>\n",
              "      <td>11714.366211</td>\n",
              "      <td>11729.0</td>\n",
              "    </tr>\n",
              "  </tbody>\n",
              "</table>\n",
              "<p>121 rows × 2 columns</p>\n",
              "</div>"
            ],
            "text/plain": [
              "              prd     real\n",
              "0     9052.419922   9029.0\n",
              "1    10123.534180  10210.0\n",
              "2    10550.263672  10890.0\n",
              "3    11406.938477  11630.0\n",
              "4    11720.906250  11595.0\n",
              "..            ...      ...\n",
              "116  10370.188477   9420.0\n",
              "117   9215.326172   9510.0\n",
              "118  10669.772461  10580.0\n",
              "119   8637.213867   8694.0\n",
              "120  11714.366211  11729.0\n",
              "\n",
              "[121 rows x 2 columns]"
            ]
          },
          "execution_count": 62,
          "metadata": {},
          "output_type": "execute_result"
        }
      ],
      "source": [
        "df2"
      ]
    },
    {
      "cell_type": "code",
      "execution_count": 63,
      "id": "40b8997a",
      "metadata": {},
      "outputs": [],
      "source": [
        "df2[\"real\"]=df2[\"real\"].pct_change()\n",
        "df2['real']=np.where(df2[\"real\"]>0,1,-1)\n",
        "df2[\"prd\"]=df2[\"prd\"].pct_change()\n",
        "df2['prd']=np.where(df2[\"prd\"]>0,1,-1)"
      ]
    },
    {
      "cell_type": "code",
      "execution_count": 67,
      "id": "6c27331a",
      "metadata": {},
      "outputs": [
        {
          "name": "stdout",
          "output_type": "stream",
          "text": [
            "Prediction_Accuracy: 0.95\n"
          ]
        }
      ],
      "source": [
        "pred_accu = round(np.sum(df2[\"real\"]*df2[\"prd\"] > 0) / len(df2[\"real\"]), 2)\n",
        "print('Prediction_Accuracy:', pred_accu)"
      ]
    }
  ],
  "metadata": {
    "accelerator": "GPU",
    "colab": {
      "gpuType": "T4",
      "include_colab_link": true,
      "provenance": []
    },
    "kernelspec": {
      "display_name": "Python 3",
      "name": "python3"
    },
    "language_info": {
      "codemirror_mode": {
        "name": "ipython",
        "version": 3
      },
      "file_extension": ".py",
      "mimetype": "text/x-python",
      "name": "python",
      "nbconvert_exporter": "python",
      "pygments_lexer": "ipython3",
      "version": "3.9.18"
    }
  },
  "nbformat": 4,
  "nbformat_minor": 5
}
